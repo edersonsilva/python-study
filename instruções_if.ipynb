{
 "cells": [
  {
   "cell_type": "markdown",
   "metadata": {},
   "source": [
    "# Instruções IF"
   ]
  },
  {
   "cell_type": "code",
   "execution_count": 8,
   "metadata": {},
   "outputs": [
    {
     "name": "stdout",
     "output_type": "stream",
     "text": [
      "Audi\n",
      "Ferrari\n",
      "BMW\n",
      "Subaru\n",
      "Toyota\n"
     ]
    }
   ],
   "source": [
    "cars = ['audi','ferrari','bmw','subaru','toyota']\n",
    "\n",
    "for car in cars:\n",
    "    if car == 'bmw':\n",
    "        print(car.upper())\n",
    "    else:\n",
    "        print(car.title())"
   ]
  },
  {
   "cell_type": "markdown",
   "metadata": {},
   "source": [
    "## Testes condicionais"
   ]
  },
  {
   "cell_type": "code",
   "execution_count": 11,
   "metadata": {},
   "outputs": [
    {
     "name": "stdout",
     "output_type": "stream",
     "text": [
      "Hold the anchovas\n"
     ]
    }
   ],
   "source": [
    "requested_topping = 'cogumelos'\n",
    "\n",
    "if requested_topping != 'anchovas':\n",
    "    print(\"Hold the anchovas\")"
   ]
  },
  {
   "cell_type": "code",
   "execution_count": 12,
   "metadata": {},
   "outputs": [
    {
     "data": {
      "text/plain": [
       "True"
      ]
     },
     "execution_count": 12,
     "metadata": {},
     "output_type": "execute_result"
    }
   ],
   "source": [
    "idade = 18\n",
    "idade == 18"
   ]
  },
  {
   "cell_type": "code",
   "execution_count": 13,
   "metadata": {},
   "outputs": [
    {
     "name": "stdout",
     "output_type": "stream",
     "text": [
      "Essa não é a resposta correta. Por favor tente novamente!\n"
     ]
    }
   ],
   "source": [
    "resposta = 17\n",
    "\n",
    "if resposta != 42:\n",
    "    print('Essa não é a resposta correta. Por favor tente novamente!')"
   ]
  },
  {
   "cell_type": "code",
   "execution_count": 16,
   "metadata": {},
   "outputs": [
    {
     "data": {
      "text/plain": [
       "True"
      ]
     },
     "execution_count": 16,
     "metadata": {},
     "output_type": "execute_result"
    }
   ],
   "source": [
    "idade = 19\n",
    "idade < 21"
   ]
  },
  {
   "cell_type": "code",
   "execution_count": 17,
   "metadata": {},
   "outputs": [
    {
     "data": {
      "text/plain": [
       "True"
      ]
     },
     "execution_count": 17,
     "metadata": {},
     "output_type": "execute_result"
    }
   ],
   "source": [
    "idade <= 21\n"
   ]
  },
  {
   "cell_type": "code",
   "execution_count": 18,
   "metadata": {},
   "outputs": [
    {
     "data": {
      "text/plain": [
       "False"
      ]
     },
     "execution_count": 18,
     "metadata": {},
     "output_type": "execute_result"
    }
   ],
   "source": [
    "idade > 21"
   ]
  },
  {
   "cell_type": "code",
   "execution_count": 19,
   "metadata": {},
   "outputs": [
    {
     "data": {
      "text/plain": [
       "False"
      ]
     },
     "execution_count": 19,
     "metadata": {},
     "output_type": "execute_result"
    }
   ],
   "source": [
    "idade >= 21"
   ]
  },
  {
   "cell_type": "code",
   "execution_count": 20,
   "metadata": {},
   "outputs": [
    {
     "data": {
      "text/plain": [
       "False"
      ]
     },
     "execution_count": 20,
     "metadata": {},
     "output_type": "execute_result"
    }
   ],
   "source": [
    "age_0 = 22\n",
    "age_1 = 18\n",
    "\n",
    "age_0 >= 22 and age_1 >= 21"
   ]
  },
  {
   "cell_type": "code",
   "execution_count": 21,
   "metadata": {},
   "outputs": [
    {
     "data": {
      "text/plain": [
       "True"
      ]
     },
     "execution_count": 21,
     "metadata": {},
     "output_type": "execute_result"
    }
   ],
   "source": [
    "age_1 = 22\n",
    "age_0 >= 22 and age_1 >= 21"
   ]
  },
  {
   "cell_type": "code",
   "execution_count": 22,
   "metadata": {},
   "outputs": [
    {
     "data": {
      "text/plain": [
       "True"
      ]
     },
     "execution_count": 22,
     "metadata": {},
     "output_type": "execute_result"
    }
   ],
   "source": [
    "age_0 = 22\n",
    "age_1 = 18\n",
    "\n",
    "age_0 >= 22 or age_1 >= 21"
   ]
  },
  {
   "cell_type": "code",
   "execution_count": 23,
   "metadata": {},
   "outputs": [
    {
     "data": {
      "text/plain": [
       "True"
      ]
     },
     "execution_count": 23,
     "metadata": {},
     "output_type": "execute_result"
    }
   ],
   "source": [
    "toppings = ['cogumelos','cebolas','bacon']\n",
    "\n",
    "'cebolas' in toppings"
   ]
  },
  {
   "cell_type": "code",
   "execution_count": 24,
   "metadata": {},
   "outputs": [
    {
     "data": {
      "text/plain": [
       "False"
      ]
     },
     "execution_count": 24,
     "metadata": {},
     "output_type": "execute_result"
    }
   ],
   "source": [
    "'picles' in toppings"
   ]
  },
  {
   "cell_type": "code",
   "execution_count": 25,
   "metadata": {},
   "outputs": [
    {
     "name": "stdout",
     "output_type": "stream",
     "text": [
      "Maria, você pode postar uma resposta se quiser\n"
     ]
    }
   ],
   "source": [
    "banned_users = ['luis','barbara','julieta']\n",
    "user = 'maria'\n",
    "\n",
    "if user not in banned_users:\n",
    "    print(user.title() + ', você pode postar uma resposta se quiser')\n"
   ]
  },
  {
   "cell_type": "markdown",
   "metadata": {},
   "source": [
    "## Faça você mesmo"
   ]
  },
  {
   "cell_type": "code",
   "execution_count": 28,
   "metadata": {},
   "outputs": [
    {
     "name": "stdout",
     "output_type": "stream",
     "text": [
      "Esse carro == 'fusca'? Eu presumo verdade\n",
      "True\n"
     ]
    }
   ],
   "source": [
    "carro = 'fusca'\n",
    "print(\"Esse carro == 'fusca'? Eu presumo verdade\")\n",
    "print(carro == 'fusca')"
   ]
  },
  {
   "cell_type": "code",
   "execution_count": 29,
   "metadata": {},
   "outputs": [
    {
     "name": "stdout",
     "output_type": "stream",
     "text": [
      "Esse carro == 'audi'? Eu presumo falso\n",
      "False\n"
     ]
    }
   ],
   "source": [
    "print(\"Esse carro == 'audi'? Eu presumo falso\")\n",
    "print(carro == 'audi')"
   ]
  },
  {
   "cell_type": "code",
   "execution_count": 36,
   "metadata": {},
   "outputs": [
    {
     "name": "stdin",
     "output_type": "stream",
     "text": [
      "Digita o nome ze\n"
     ]
    },
    {
     "name": "stdout",
     "output_type": "stream",
     "text": [
      "Nada ver irmao\n"
     ]
    }
   ],
   "source": [
    "nome = input('Digita o nome')\n",
    "if nome.title() == 'Ederson':\n",
    "    print('Eu sou o cara')\n",
    "else:\n",
    "    print('Nada ver irmao')"
   ]
  },
  {
   "cell_type": "code",
   "execution_count": 37,
   "metadata": {},
   "outputs": [
    {
     "data": {
      "text/plain": [
       "True"
      ]
     },
     "execution_count": 37,
     "metadata": {},
     "output_type": "execute_result"
    }
   ],
   "source": [
    "times = ['palmeiras','santos','flamengo','ceara']\n",
    "\n",
    "'palmeiras' in times\n"
   ]
  },
  {
   "cell_type": "code",
   "execution_count": 38,
   "metadata": {},
   "outputs": [
    {
     "data": {
      "text/plain": [
       "True"
      ]
     },
     "execution_count": 38,
     "metadata": {},
     "output_type": "execute_result"
    }
   ],
   "source": [
    "'sao paulo' not in times"
   ]
  },
  {
   "cell_type": "code",
   "execution_count": 39,
   "metadata": {},
   "outputs": [
    {
     "data": {
      "text/plain": [
       "False"
      ]
     },
     "execution_count": 39,
     "metadata": {},
     "output_type": "execute_result"
    }
   ],
   "source": [
    "'sao paulo' in times"
   ]
  },
  {
   "cell_type": "code",
   "execution_count": 45,
   "metadata": {},
   "outputs": [
    {
     "name": "stdout",
     "output_type": "stream",
     "text": [
      "Infelizmente voce e muito jovem para votar\n",
      "Por favor, registre seu voto, quando completar 18\n"
     ]
    }
   ],
   "source": [
    "age = 17\n",
    "if age >= 18:\n",
    "    print('Pode votar')\n",
    "    print('Voce ja registrou seu voto')\n",
    "else:\n",
    "    print('Infelizmente voce e muito jovem para votar')\n",
    "    print('Por favor, registre seu voto, quando completar 18')"
   ]
  },
  {
   "cell_type": "code",
   "execution_count": 50,
   "metadata": {},
   "outputs": [
    {
     "name": "stdout",
     "output_type": "stream",
     "text": [
      "A entrada custará $5.\n"
     ]
    }
   ],
   "source": [
    "age = 18\n",
    "if age <= 4:\n",
    "    print('A entrada custará $0.')\n",
    "elif age > 4 and age <= 18:\n",
    "    print('A entrada custará $5.')\n",
    "else:\n",
    "    print('A entrada custará $10.')"
   ]
  },
  {
   "cell_type": "code",
   "execution_count": 67,
   "metadata": {},
   "outputs": [
    {
     "name": "stdin",
     "output_type": "stream",
     "text": [
      "Digita a idade: 64\n"
     ]
    },
    {
     "name": "stdout",
     "output_type": "stream",
     "text": [
      "Sua entrada custa $5.\n"
     ]
    }
   ],
   "source": [
    "age = int(input('Digita a idade:'))\n",
    "if age <= 4:\n",
    "    price = 0\n",
    "elif age <= 18:\n",
    "    price = 5\n",
    "elif age < 65:\n",
    "    price = 5\n",
    "\n",
    "\n",
    "print('Sua entrada custa $' + str(price) + '.')"
   ]
  },
  {
   "cell_type": "code",
   "execution_count": 69,
   "metadata": {},
   "outputs": [
    {
     "name": "stdout",
     "output_type": "stream",
     "text": [
      "Adicionado cogumelos\n",
      "Adicionado extra queijo\n",
      "\n",
      "Finalizado a produção da pizza\n"
     ]
    }
   ],
   "source": [
    "toppings = ['cogumelos','extra queijo']\n",
    "\n",
    "if 'cogumelos' in toppings:\n",
    "    print('Adicionado cogumelos')\n",
    "if 'pepperoni' in toppings:\n",
    "    print('Adicionado extra pepperoni')\n",
    "if 'extra queijo' in toppings:\n",
    "    print('Adicionado extra queijo')\n",
    "    \n",
    "print('\\nFinalizado a produção da pizza')"
   ]
  },
  {
   "cell_type": "markdown",
   "metadata": {},
   "source": [
    "## Faça você mesmo"
   ]
  },
  {
   "cell_type": "code",
   "execution_count": 71,
   "metadata": {},
   "outputs": [
    {
     "name": "stdout",
     "output_type": "stream",
     "text": [
      "Você ganhou 5 pontos\n"
     ]
    }
   ],
   "source": [
    "alien_color = ['verde','amarelo', 'vermelho']\n",
    "\n",
    "if 'verde' in alien_color:\n",
    "    print('Você ganhou 5 pontos')\n"
   ]
  },
  {
   "cell_type": "code",
   "execution_count": 72,
   "metadata": {},
   "outputs": [
    {
     "name": "stdout",
     "output_type": "stream",
     "text": [
      "Você ganhou 5 pontos\n"
     ]
    }
   ],
   "source": [
    "if 'amarelo' in alien_color:\n",
    "    print('Você ganhou 5 pontos')"
   ]
  },
  {
   "cell_type": "code",
   "execution_count": 73,
   "metadata": {},
   "outputs": [],
   "source": [
    "if 'azul' in alien_color:\n",
    "    print('Você ganhou 5 pontos')"
   ]
  },
  {
   "cell_type": "code",
   "execution_count": 75,
   "metadata": {},
   "outputs": [
    {
     "name": "stdout",
     "output_type": "stream",
     "text": [
      "Voce ganhou 10 pontos\n"
     ]
    }
   ],
   "source": [
    "alien_color = 'amarelo'\n",
    "\n",
    "if alien_color == 'verde':\n",
    "    print('Voce ganhou 5 pontos')\n",
    "else:\n",
    "    print('Voce ganhou 10 pontos')"
   ]
  },
  {
   "cell_type": "code",
   "execution_count": 77,
   "metadata": {},
   "outputs": [
    {
     "name": "stdout",
     "output_type": "stream",
     "text": [
      "Voce ganhou 10 pontos\n"
     ]
    }
   ],
   "source": [
    "alien_color = 'amarelo'\n",
    "\n",
    "if alien_color == 'verde':\n",
    "    print('Voce ganhou 5 pontos')\n",
    "elif alien_color == 'amarelo':\n",
    "    print('Voce ganhou 10 pontos')\n",
    "elif alien_color == 'vermelho':\n",
    "    print('Voce ganhou 15 pontos')"
   ]
  },
  {
   "cell_type": "code",
   "execution_count": 89,
   "metadata": {},
   "outputs": [
    {
     "name": "stdout",
     "output_type": "stream",
     "text": [
      "É um idoso!.\n"
     ]
    }
   ],
   "source": [
    "age = 65\n",
    "\n",
    "if age < 2:\n",
    "    print('É um bebe!')\n",
    "elif age >= 2 and age < 4:\n",
    "    print('É uma criança!')\n",
    "elif age >= 4 and age < 13:\n",
    "    print('É um(a) garotada.')\n",
    "elif age >= 13 and age < 20:\n",
    "    print('É um(a) adolescente!.')\n",
    "elif age >= 20 and age < 65:\n",
    "    print('É um adulto!.')\n",
    "else:\n",
    "    print('É um idoso!.')"
   ]
  },
  {
   "cell_type": "code",
   "execution_count": 90,
   "metadata": {},
   "outputs": [
    {
     "name": "stdout",
     "output_type": "stream",
     "text": [
      "Voce gosta mesmo de peras\n",
      "Voce gosta mesmo de abacaxi\n",
      "Voce gosta mesmo de bananas\n",
      "Voce gosta mesmo de limão\n",
      "Voce gosta mesmo de abacate\n"
     ]
    }
   ],
   "source": [
    "frutas = ['maça','banana','abacaxi','limão','pera','abacate']\n",
    "\n",
    "if 'pera' in frutas:\n",
    "    print('Voce gosta mesmo de peras')\n",
    "if 'abacaxi' in frutas:\n",
    "    print('Voce gosta mesmo de abacaxi')\n",
    "if 'banana' in frutas:\n",
    "    print('Voce gosta mesmo de bananas')\n",
    "if 'limão' in frutas:\n",
    "    print('Voce gosta mesmo de limão')\n",
    "if 'abacate' in frutas:\n",
    "    print('Voce gosta mesmo de abacate')"
   ]
  },
  {
   "cell_type": "code",
   "execution_count": 91,
   "metadata": {},
   "outputs": [
    {
     "name": "stdout",
     "output_type": "stream",
     "text": [
      "Adicionando cogmelos.\n",
      "Adicionando azeitona.\n",
      "Adicionando calabresa.\n",
      "\n",
      "Finalizado a produção da pizza\n"
     ]
    }
   ],
   "source": [
    "toppings = ['cogmelos','azeitona','calabresa']\n",
    "\n",
    "for topping in toppings:\n",
    "    print('Adicionando ' + topping + '.')\n",
    "\n",
    "print('\\nFinalizado a produção da pizza')"
   ]
  },
  {
   "cell_type": "code",
   "execution_count": 93,
   "metadata": {},
   "outputs": [
    {
     "name": "stdout",
     "output_type": "stream",
     "text": [
      "Adicionando cogmelos.\n",
      "Desculpe, estamos sem azeitonas!\n",
      "Adicionando calabresa.\n",
      "\n",
      "Finalizado a produção da pizza\n"
     ]
    }
   ],
   "source": [
    "toppings = ['cogmelos','azeitona','calabresa']\n",
    "\n",
    "for topping in toppings:\n",
    "    if topping == 'azeitona':\n",
    "        print('Desculpe, estamos sem azeitonas!')\n",
    "    else:\n",
    "        print('Adicionando ' + topping + '.')\n",
    "\n",
    "print('\\nFinalizado a produção da pizza')"
   ]
  },
  {
   "cell_type": "code",
   "execution_count": 99,
   "metadata": {},
   "outputs": [
    {
     "name": "stdout",
     "output_type": "stream",
     "text": [
      "Voce quer uma puzza simples\n"
     ]
    }
   ],
   "source": [
    "toppings = []\n",
    "\n",
    "if toppings:\n",
    "    for topping in toppings:\n",
    "        print('Adicionando ' + topping + '.')\n",
    "\n",
    "    print('\\nFinalizado a produção da pizza')\n",
    "else:\n",
    "    print('Voce quer uma puzza simples')"
   ]
  },
  {
   "cell_type": "code",
   "execution_count": 107,
   "metadata": {},
   "outputs": [
    {
     "name": "stdout",
     "output_type": "stream",
     "text": [
      "Adicionando cogumelos\n",
      "Desculpe, nós não temos batata frita\n",
      "Adicionando pepperoni\n",
      "\n",
      "Pizza finalizada com sucesso!\n"
     ]
    }
   ],
   "source": [
    "available_toppings = ['cogumelos','azeitonas','pimentao','pepperoni','abacaxi','queijo']\n",
    "\n",
    "pedido_toppings =  ['cogumelos','batata frita','pepperoni']\n",
    "\n",
    "for pedido_topping in pedido_toppings:\n",
    "    if pedido_topping in available_toppings:\n",
    "        print('Adicionando ' + pedido_topping)\n",
    "    else:\n",
    "        print('Desculpe, nós não temos ' + pedido_topping)\n",
    "        \n",
    "print('\\nPizza finalizada com sucesso!')"
   ]
  },
  {
   "cell_type": "markdown",
   "metadata": {},
   "source": [
    "## Faça você mesmo"
   ]
  },
  {
   "cell_type": "code",
   "execution_count": 111,
   "metadata": {},
   "outputs": [
    {
     "name": "stdout",
     "output_type": "stream",
     "text": [
      "Ola Ederson obrigado por fazer login novamente.\n",
      "Ola Ricardo obrigado por fazer login novamente.\n",
      "Ola Wagner obrigado por fazer login novamente.\n",
      "Ola William obrigado por fazer login novamente.\n",
      "Olá Admin gostaria de ver o relatório de status!\n"
     ]
    }
   ],
   "source": [
    "users = ['ederson', 'ricardo','wagner','william','admin']\n",
    "\n",
    "for user in users:\n",
    "    if user == 'admin':\n",
    "        print('Olá ' + user.title() + ' gostaria de ver o relatório de status!')\n",
    "    else:\n",
    "        print('Ola ' + user.title() + ' obrigado por fazer login novamente.')"
   ]
  },
  {
   "cell_type": "code",
   "execution_count": 113,
   "metadata": {},
   "outputs": [
    {
     "name": "stdout",
     "output_type": "stream",
     "text": [
      "Precisamos encontrar alguns usuarios\n"
     ]
    }
   ],
   "source": [
    "#users = ['ederson', 'ricardo','wagner','william','admin']\n",
    "users = []\n",
    "\n",
    "if users:\n",
    "    for user in users:\n",
    "        if user == 'admin':\n",
    "            print('Olá ' + user.title() + ' gostaria de ver o relatório de status!')\n",
    "        else:\n",
    "            print('Ola ' + user.title() + ' obrigado por fazer login novamente.')\n",
    "else:\n",
    "    print('Precisamos encontrar alguns usuarios')"
   ]
  },
  {
   "cell_type": "code",
   "execution_count": 120,
   "metadata": {},
   "outputs": [
    {
     "name": "stdout",
     "output_type": "stream",
     "text": [
      "O nome do jose está disponivel\n",
      "O nome do maria está disponivel\n",
      "Voce deve fornecer novo nome\n",
      "Voce deve fornecer novo nome\n",
      "Voce deve fornecer novo nome\n"
     ]
    }
   ],
   "source": [
    "current_users = ['ederson', 'ricardo','wagner','william','jesus']\n",
    "\n",
    "new_users = ['jose', 'maria','wagner','RICARDO','jesus']\n",
    "\n",
    "for new_user in new_users:\n",
    "    if new_user.lower() in current_users:\n",
    "        print('Voce deve fornecer novo nome')\n",
    "    else:\n",
    "        print('O nome do ' + new_user + ' está disponivel')"
   ]
  },
  {
   "cell_type": "code",
   "execution_count": 125,
   "metadata": {},
   "outputs": [
    {
     "name": "stdout",
     "output_type": "stream",
     "text": [
      "1st\n",
      "2nd\n",
      "3th\n",
      "4th\n",
      "5th\n",
      "6th\n",
      "7th\n",
      "8th\n",
      "9th\n"
     ]
    }
   ],
   "source": [
    "ordinais = [1,2,3,4,5,6,7,8,9]\n",
    "\n",
    "for ordinal in ordinais:\n",
    "    if ordinal == 1:\n",
    "        print(str(ordinal) + 'st')\n",
    "    elif ordinal == 2:\n",
    "        print(str(ordinal) + 'nd')\n",
    "    else:\n",
    "        print(str(ordinal) + 'th')"
   ]
  },
  {
   "cell_type": "code",
   "execution_count": null,
   "metadata": {},
   "outputs": [],
   "source": []
  }
 ],
 "metadata": {
  "kernelspec": {
   "display_name": "Python 3",
   "language": "python",
   "name": "python3"
  },
  "language_info": {
   "codemirror_mode": {
    "name": "ipython",
    "version": 3
   },
   "file_extension": ".py",
   "mimetype": "text/x-python",
   "name": "python",
   "nbconvert_exporter": "python",
   "pygments_lexer": "ipython3",
   "version": "3.7.3"
  }
 },
 "nbformat": 4,
 "nbformat_minor": 4
}
