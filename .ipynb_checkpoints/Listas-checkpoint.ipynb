{
 "cells": [
  {
   "cell_type": "markdown",
   "metadata": {},
   "source": [
    "# Introdução às Listas"
   ]
  },
  {
   "cell_type": "code",
   "execution_count": 1,
   "metadata": {},
   "outputs": [
    {
     "name": "stdout",
     "output_type": "stream",
     "text": [
      "['trek', ' caloi', ' monark', ' barra forte']\n"
     ]
    }
   ],
   "source": [
    "bicicletas = ['trek', ' caloi', ' monark', ' barra forte']\n",
    "print(bicicletas)"
   ]
  },
  {
   "cell_type": "markdown",
   "metadata": {},
   "source": [
    "### Acessando elementos de uma lista"
   ]
  },
  {
   "cell_type": "code",
   "execution_count": 6,
   "metadata": {},
   "outputs": [
    {
     "name": "stdout",
     "output_type": "stream",
     "text": [
      "Trek\n"
     ]
    }
   ],
   "source": [
    "bicicletas = ['trek', ' caloi', ' monark', ' barra forte']\n",
    "print(bicicletas[0].title())"
   ]
  },
  {
   "cell_type": "code",
   "execution_count": 7,
   "metadata": {},
   "outputs": [
    {
     "name": "stdout",
     "output_type": "stream",
     "text": [
      " caloi\n",
      " barra forte\n"
     ]
    }
   ],
   "source": [
    "print(bicicletas[1])\n",
    "print(bicicletas[3])"
   ]
  },
  {
   "cell_type": "code",
   "execution_count": 8,
   "metadata": {},
   "outputs": [
    {
     "name": "stdout",
     "output_type": "stream",
     "text": [
      " barra forte\n"
     ]
    }
   ],
   "source": [
    "print(bicicletas[-1])"
   ]
  },
  {
   "cell_type": "code",
   "execution_count": 16,
   "metadata": {},
   "outputs": [
    {
     "name": "stdout",
     "output_type": "stream",
     "text": [
      "Minha primeira bicicleta foi uma Caloi.\n"
     ]
    }
   ],
   "source": [
    "message = \"Minha primeira bicicleta foi uma\" + bicicletas[1].title() + \".\"\n",
    "print(message)"
   ]
  },
  {
   "cell_type": "markdown",
   "metadata": {},
   "source": [
    "## Faça você mesmo"
   ]
  },
  {
   "cell_type": "code",
   "execution_count": 19,
   "metadata": {},
   "outputs": [
    {
     "name": "stdout",
     "output_type": "stream",
     "text": [
      "Wagner\n",
      "William\n",
      "Ricardo\n",
      "Laércio\n",
      "Everton\n"
     ]
    }
   ],
   "source": [
    "nomes = ['Wagner', 'William', 'Ricardo', 'Laércio','Everton']\n",
    "print(nomes[0])\n",
    "print(nomes[1])\n",
    "print(nomes[2])\n",
    "print(nomes[3])\n",
    "print(nomes[4])"
   ]
  },
  {
   "cell_type": "code",
   "execution_count": 27,
   "metadata": {},
   "outputs": [
    {
     "name": "stdout",
     "output_type": "stream",
     "text": [
      "Olá, Wagner hoje vai ter jogo.\n",
      "Olá, William hoje vai ter jogo.\n",
      "Olá, Ricardo hoje vai ter jogo.\n",
      "Olá, Laércio hoje vai ter jogo.\n",
      "Olá, Everton hoje vai ter jogo.\n"
     ]
    }
   ],
   "source": [
    "mensagem = \"Olá, \" + nomes[0].title() + \" hoje vai ter jogo.\"\n",
    "print(mensagem)\n",
    "mensagem = \"Olá, \" + nomes[1].title() + \" hoje vai ter jogo.\"\n",
    "print(mensagem)\n",
    "mensagem = \"Olá, \" + nomes[2].title() + \" hoje vai ter jogo.\"\n",
    "print(mensagem)\n",
    "mensagem = \"Olá, \" + nomes[3].title() + \" hoje vai ter jogo.\"\n",
    "print(mensagem)\n",
    "mensagem = \"Olá, \" + nomes[4].title() + \" hoje vai ter jogo.\"\n",
    "print(mensagem)"
   ]
  },
  {
   "cell_type": "code",
   "execution_count": 35,
   "metadata": {},
   "outputs": [
    {
     "name": "stdout",
     "output_type": "stream",
     "text": [
      "Gostaria de ter um carro Ferrari.\n"
     ]
    }
   ],
   "source": [
    "transportes = ['carro','moto','onibus','metrô']\n",
    "mensagem = \"Gostaria de ter um \" + transportes[0] + \" Ferrari.\"\n",
    "print(mensagem)"
   ]
  },
  {
   "cell_type": "code",
   "execution_count": 36,
   "metadata": {},
   "outputs": [
    {
     "name": "stdout",
     "output_type": "stream",
     "text": [
      "Um meio de transporte perigoso e a tal da moto.\n"
     ]
    }
   ],
   "source": [
    "mensagem = \"Um meio de transporte perigoso e a tal da \" + transportes[1] + \".\"\n",
    "print(mensagem)"
   ]
  },
  {
   "cell_type": "code",
   "execution_count": 37,
   "metadata": {},
   "outputs": [
    {
     "name": "stdout",
     "output_type": "stream",
     "text": [
      "Sempre fui para a faculdade de onibus como meio de transporte.\n"
     ]
    }
   ],
   "source": [
    "mensagem = \"Sempre fui para a faculdade de \" + transportes[2] + \" como meio de transporte.\"\n",
    "print(mensagem)"
   ]
  },
  {
   "cell_type": "code",
   "execution_count": 38,
   "metadata": {},
   "outputs": [
    {
     "name": "stdout",
     "output_type": "stream",
     "text": [
      "Na minha cidade não existe metrô para se locomover.\n"
     ]
    }
   ],
   "source": [
    "mensagem = \"Na minha cidade não existe \" + transportes[3] + \" para se locomover.\"\n",
    "print(mensagem)"
   ]
  },
  {
   "cell_type": "markdown",
   "metadata": {},
   "source": [
    "## Modificando elementos de uma lista"
   ]
  },
  {
   "cell_type": "code",
   "execution_count": 39,
   "metadata": {},
   "outputs": [
    {
     "name": "stdout",
     "output_type": "stream",
     "text": [
      "['honda', 'yamaha', 'suzuki']\n"
     ]
    }
   ],
   "source": [
    "motos = ['honda','yamaha','suzuki']\n",
    "print(motos)"
   ]
  },
  {
   "cell_type": "code",
   "execution_count": 40,
   "metadata": {},
   "outputs": [
    {
     "name": "stdout",
     "output_type": "stream",
     "text": [
      "['ducati', 'yamaha', 'suzuki']\n"
     ]
    }
   ],
   "source": [
    "motos[0] = 'ducati'\n",
    "print(motos)"
   ]
  },
  {
   "cell_type": "code",
   "execution_count": 41,
   "metadata": {},
   "outputs": [],
   "source": [
    "motos.append('Harley Davidson')"
   ]
  },
  {
   "cell_type": "code",
   "execution_count": 51,
   "metadata": {},
   "outputs": [
    {
     "name": "stdout",
     "output_type": "stream",
     "text": [
      "['ducati', 'yamaha', 'suzuki', 'Harley Davidson']\n"
     ]
    }
   ],
   "source": [
    "print(motos)"
   ]
  },
  {
   "cell_type": "code",
   "execution_count": 52,
   "metadata": {},
   "outputs": [
    {
     "name": "stdout",
     "output_type": "stream",
     "text": [
      "['honda', 'ducati', 'cg titan']\n"
     ]
    }
   ],
   "source": [
    "motocicletas = []\n",
    "\n",
    "motocicletas.append('honda')\n",
    "motocicletas.append('ducati')\n",
    "motocicletas.append('cg titan')\n",
    "\n",
    "print(motocicletas)"
   ]
  },
  {
   "cell_type": "code",
   "execution_count": 53,
   "metadata": {},
   "outputs": [],
   "source": [
    "motocicletas.insert(0,'suzuki')"
   ]
  },
  {
   "cell_type": "code",
   "execution_count": 54,
   "metadata": {},
   "outputs": [
    {
     "name": "stdout",
     "output_type": "stream",
     "text": [
      "['suzuki', 'honda', 'ducati', 'cg titan']\n"
     ]
    }
   ],
   "source": [
    "print(motocicletas)"
   ]
  },
  {
   "cell_type": "code",
   "execution_count": 55,
   "metadata": {},
   "outputs": [],
   "source": [
    "del motocicletas[2]"
   ]
  },
  {
   "cell_type": "code",
   "execution_count": 56,
   "metadata": {},
   "outputs": [
    {
     "name": "stdout",
     "output_type": "stream",
     "text": [
      "['suzuki', 'honda', 'cg titan']\n"
     ]
    }
   ],
   "source": [
    "print(motocicletas)"
   ]
  },
  {
   "cell_type": "code",
   "execution_count": 59,
   "metadata": {},
   "outputs": [
    {
     "name": "stdout",
     "output_type": "stream",
     "text": [
      "['honda', 'yamanha', 'suzuki']\n"
     ]
    }
   ],
   "source": [
    "motocicletas = ['honda','yamanha','suzuki']\n",
    "print(motocicletas)"
   ]
  },
  {
   "cell_type": "code",
   "execution_count": 60,
   "metadata": {},
   "outputs": [
    {
     "name": "stdout",
     "output_type": "stream",
     "text": [
      "suzuki\n"
     ]
    }
   ],
   "source": [
    "popped_motocicleta = motocicletas.pop()\n",
    "print(popped_motocicleta)"
   ]
  },
  {
   "cell_type": "code",
   "execution_count": 62,
   "metadata": {},
   "outputs": [
    {
     "name": "stdout",
     "output_type": "stream",
     "text": [
      "A última motoclicleta que eu tinha era uma Suzuki.\n"
     ]
    }
   ],
   "source": [
    "print(\"A última motoclicleta que eu tinha era uma \" + popped_motocicleta.title() + \".\")"
   ]
  },
  {
   "cell_type": "code",
   "execution_count": 64,
   "metadata": {},
   "outputs": [],
   "source": [
    "motocicletas.remove('honda')"
   ]
  },
  {
   "cell_type": "code",
   "execution_count": 65,
   "metadata": {},
   "outputs": [
    {
     "name": "stdout",
     "output_type": "stream",
     "text": [
      "['yamanha']\n"
     ]
    }
   ],
   "source": [
    "print(motocicletas)"
   ]
  },
  {
   "cell_type": "code",
   "execution_count": 68,
   "metadata": {},
   "outputs": [
    {
     "name": "stdout",
     "output_type": "stream",
     "text": [
      "\n",
      "A Yamanha é muito cara para mim.\n"
     ]
    }
   ],
   "source": [
    "motocicletas = ['honda','yamanha','suzuki']\n",
    "muito_caro = 'yamanha'\n",
    "motocicletas.remove(muito_caro)\n",
    "print(\"\\nA \" + muito_caro.title() + \" é muito cara para mim.\")\n"
   ]
  },
  {
   "cell_type": "markdown",
   "metadata": {},
   "source": [
    "## Faça você mesmo"
   ]
  },
  {
   "cell_type": "code",
   "execution_count": 322,
   "metadata": {},
   "outputs": [
    {
     "name": "stdout",
     "output_type": "stream",
     "text": [
      "Eu convido você Thainá para jantar.\n",
      "Eu convido você Meiriene para jantar.\n",
      "Eu convido você Paola para jantar.\n"
     ]
    }
   ],
   "source": [
    "convidadas = [\"Thainá\", \"Meiriene\",\"Paola\"]\n",
    "\n",
    "print(\"Eu convido você \" + convidadas[0] + \" para jantar.\")\n",
    "print(\"Eu convido você \" + convidadas[1] + \" para jantar.\")\n",
    "print(\"Eu convido você \" + convidadas[2] + \" para jantar.\")\n"
   ]
  },
  {
   "cell_type": "code",
   "execution_count": 323,
   "metadata": {},
   "outputs": [
    {
     "name": "stdout",
     "output_type": "stream",
     "text": [
      " A convidada Meiriene não irá comparecer\n"
     ]
    }
   ],
   "source": [
    "print(\" A convidada \" + convidadas[1] + \" não irá comparecer\")"
   ]
  },
  {
   "cell_type": "code",
   "execution_count": 324,
   "metadata": {},
   "outputs": [
    {
     "name": "stdout",
     "output_type": "stream",
     "text": [
      "['Thainá', 'Jéssica', 'Paola']\n"
     ]
    }
   ],
   "source": [
    "convidadas[1] = \"Jéssica\"\n",
    "print(convidadas)"
   ]
  },
  {
   "cell_type": "code",
   "execution_count": 325,
   "metadata": {},
   "outputs": [
    {
     "name": "stdout",
     "output_type": "stream",
     "text": [
      "Eu convido você Thainá para jantar.\n",
      "Eu convido você Jéssica para jantar.\n",
      "Eu convido você Paola para jantar.\n"
     ]
    }
   ],
   "source": [
    "print(\"Eu convido você \" + convidadas[0] + \" para jantar.\")\n",
    "print(\"Eu convido você \" + convidadas[1] + \" para jantar.\")\n",
    "print(\"Eu convido você \" + convidadas[2] + \" para jantar.\")"
   ]
  },
  {
   "cell_type": "code",
   "execution_count": 326,
   "metadata": {},
   "outputs": [],
   "source": [
    "convidadas.insert(0, \"Leila\")\n",
    "convidadas.insert(2, \"Aline\")\n",
    "convidadas.append('Fernanda')"
   ]
  },
  {
   "cell_type": "code",
   "execution_count": 327,
   "metadata": {},
   "outputs": [
    {
     "name": "stdout",
     "output_type": "stream",
     "text": [
      "['Leila', 'Thainá', 'Aline', 'Jéssica', 'Paola', 'Fernanda']\n"
     ]
    }
   ],
   "source": [
    "print(convidadas)"
   ]
  },
  {
   "cell_type": "code",
   "execution_count": 328,
   "metadata": {},
   "outputs": [
    {
     "name": "stdout",
     "output_type": "stream",
     "text": [
      "Somente será possivel convidar duas pessoas para o jantar\n"
     ]
    }
   ],
   "source": [
    "print(\"Somente será possivel convidar duas pessoas para o jantar\")"
   ]
  },
  {
   "cell_type": "code",
   "execution_count": 329,
   "metadata": {},
   "outputs": [
    {
     "name": "stdout",
     "output_type": "stream",
     "text": [
      "Olá Fernanda infelizmente não poder convidá-la para o jantar\n"
     ]
    }
   ],
   "source": [
    "\n",
    "print(\"Olá \" + convidadas.pop() + \" infelizmente não poder convidá-la para o jantar\")\n"
   ]
  },
  {
   "cell_type": "code",
   "execution_count": 330,
   "metadata": {},
   "outputs": [
    {
     "name": "stdout",
     "output_type": "stream",
     "text": [
      "Olá Paola infelizmente não poder convidá-la para o jantar\n"
     ]
    }
   ],
   "source": [
    "print(\"Olá \" + convidadas.pop() + \" infelizmente não poder convidá-la para o jantar\")"
   ]
  },
  {
   "cell_type": "code",
   "execution_count": 331,
   "metadata": {},
   "outputs": [
    {
     "name": "stdout",
     "output_type": "stream",
     "text": [
      "Olá Jéssica infelizmente não poder convidá-la para o jantar\n"
     ]
    }
   ],
   "source": [
    "print(\"Olá \" + convidadas.pop() + \" infelizmente não poder convidá-la para o jantar\")"
   ]
  },
  {
   "cell_type": "code",
   "execution_count": 332,
   "metadata": {},
   "outputs": [
    {
     "name": "stdout",
     "output_type": "stream",
     "text": [
      "Olá Aline infelizmente não poder convidá-la para o jantar\n"
     ]
    }
   ],
   "source": [
    "print(\"Olá \" + convidadas.pop() + \" infelizmente não poder convidá-la para o jantar\")"
   ]
  },
  {
   "cell_type": "code",
   "execution_count": 333,
   "metadata": {},
   "outputs": [
    {
     "name": "stdout",
     "output_type": "stream",
     "text": [
      "Eu convido você Leila para jantar.\n"
     ]
    }
   ],
   "source": [
    "print(\"Eu convido você \" + convidadas[0] + \" para jantar.\")"
   ]
  },
  {
   "cell_type": "code",
   "execution_count": 334,
   "metadata": {},
   "outputs": [
    {
     "name": "stdout",
     "output_type": "stream",
     "text": [
      "Eu convido você Thainá para jantar.\n"
     ]
    }
   ],
   "source": [
    "print(\"Eu convido você \" + convidadas[1] + \" para jantar.\")"
   ]
  },
  {
   "cell_type": "code",
   "execution_count": 335,
   "metadata": {},
   "outputs": [
    {
     "name": "stdout",
     "output_type": "stream",
     "text": [
      "Leila\n",
      "Thainá\n",
      "2\n"
     ]
    }
   ],
   "source": [
    "print(convidadas[0])\n",
    "print(convidadas[1])\n",
    "print(len(convidadas))"
   ]
  },
  {
   "cell_type": "code",
   "execution_count": 336,
   "metadata": {},
   "outputs": [
    {
     "name": "stdout",
     "output_type": "stream",
     "text": [
      "0\n"
     ]
    }
   ],
   "source": [
    "del convidadas[1]\n",
    "del convidadas[0]\n",
    "print(len(convidadas))"
   ]
  },
  {
   "cell_type": "code",
   "execution_count": 339,
   "metadata": {},
   "outputs": [
    {
     "name": "stdout",
     "output_type": "stream",
     "text": [
      "['audi', 'bmw', 'subaru', 'toyota']\n"
     ]
    }
   ],
   "source": [
    "carros = ['bmw','audi', 'toyota','subaru']\n",
    "carros.sort()\n",
    "print(carros)"
   ]
  },
  {
   "cell_type": "code",
   "execution_count": 341,
   "metadata": {},
   "outputs": [
    {
     "name": "stdout",
     "output_type": "stream",
     "text": [
      "['toyota', 'subaru', 'bmw', 'audi']\n"
     ]
    }
   ],
   "source": [
    "carros.sort(reverse=True)\n",
    "print(carros)"
   ]
  },
  {
   "cell_type": "code",
   "execution_count": 347,
   "metadata": {},
   "outputs": [
    {
     "name": "stdout",
     "output_type": "stream",
     "text": [
      "['bmw', 'audi', 'toyota', 'subaru']\n"
     ]
    }
   ],
   "source": [
    "carros = ['bmw','audi', 'toyota','subaru']\n",
    "print(carros)"
   ]
  },
  {
   "cell_type": "code",
   "execution_count": 348,
   "metadata": {},
   "outputs": [
    {
     "name": "stdout",
     "output_type": "stream",
     "text": [
      "\n",
      "Aqui é a sorted list:\n",
      "['audi', 'bmw', 'subaru', 'toyota']\n"
     ]
    }
   ],
   "source": [
    "print(\"\\nAqui é a sorted list:\")\n",
    "print(sorted(carros))"
   ]
  },
  {
   "cell_type": "code",
   "execution_count": 349,
   "metadata": {},
   "outputs": [
    {
     "name": "stdout",
     "output_type": "stream",
     "text": [
      "\n",
      "Aqui é a oriignal list:\n",
      "['bmw', 'audi', 'toyota', 'subaru']\n"
     ]
    }
   ],
   "source": [
    "print(\"\\nAqui é a oriignal list:\")\n",
    "print(carros)"
   ]
  },
  {
   "cell_type": "code",
   "execution_count": 350,
   "metadata": {},
   "outputs": [
    {
     "name": "stdout",
     "output_type": "stream",
     "text": [
      "['subaru', 'toyota', 'audi', 'bmw']\n"
     ]
    }
   ],
   "source": [
    "carros.reverse()\n",
    "print(carros)"
   ]
  },
  {
   "cell_type": "code",
   "execution_count": 351,
   "metadata": {},
   "outputs": [
    {
     "data": {
      "text/plain": [
       "4"
      ]
     },
     "execution_count": 351,
     "metadata": {},
     "output_type": "execute_result"
    }
   ],
   "source": [
    "len(carros)"
   ]
  },
  {
   "cell_type": "markdown",
   "metadata": {},
   "source": [
    "## Faça você mesmo"
   ]
  },
  {
   "cell_type": "code",
   "execution_count": null,
   "metadata": {},
   "outputs": [],
   "source": []
  }
 ],
 "metadata": {
  "kernelspec": {
   "display_name": "Python 3",
   "language": "python",
   "name": "python3"
  },
  "language_info": {
   "codemirror_mode": {
    "name": "ipython",
    "version": 3
   },
   "file_extension": ".py",
   "mimetype": "text/x-python",
   "name": "python",
   "nbconvert_exporter": "python",
   "pygments_lexer": "ipython3",
   "version": "3.7.3"
  }
 },
 "nbformat": 4,
 "nbformat_minor": 4
}
