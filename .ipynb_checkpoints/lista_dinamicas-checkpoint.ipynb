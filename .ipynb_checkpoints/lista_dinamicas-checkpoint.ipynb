{
 "cells": [
  {
   "cell_type": "code",
   "execution_count": 1,
   "metadata": {},
   "outputs": [
    {
     "name": "stdout",
     "output_type": "stream",
     "text": [
      "alice\n",
      "david\n",
      "carolina\n"
     ]
    }
   ],
   "source": [
    " magicos = ['alice','david','carolina']\n",
    "for magico in magicos:\n",
    "    print(magico)"
   ]
  },
  {
   "cell_type": "code",
   "execution_count": 6,
   "metadata": {},
   "outputs": [
    {
     "name": "stdout",
     "output_type": "stream",
     "text": [
      "Alice, isso foi um ótimo truque.\n",
      "Eu não posso esperar para ver seu próximo truque, Alice.\n",
      "\n",
      "David, isso foi um ótimo truque.\n",
      "Eu não posso esperar para ver seu próximo truque, David.\n",
      "\n",
      "Carolina, isso foi um ótimo truque.\n",
      "Eu não posso esperar para ver seu próximo truque, Carolina.\n",
      "\n",
      "Obrigado!, a todos. Isso foi realmente um grande show;\n"
     ]
    }
   ],
   "source": [
    "for magico in magicos:\n",
    "    print(magico.title() + \", isso foi um ótimo truque.\")\n",
    "    print(\"Eu não posso esperar para ver seu próximo truque, \" + magico.title() + \".\\n\")\n",
    "    \n",
    "print(\"Obrigado!, a todos. Isso foi realmente um grande show;\")"
   ]
  },
  {
   "cell_type": "markdown",
   "metadata": {},
   "source": [
    "## Faça você mesmo"
   ]
  },
  {
   "cell_type": "code",
   "execution_count": 13,
   "metadata": {},
   "outputs": [
    {
     "name": "stdout",
     "output_type": "stream",
     "text": [
      "Gosto de pizza de Calabreza\n",
      "Gosto de pizza de Margherita\n",
      "Gosto de pizza de Provolone\n",
      "\n",
      "Eu realmente adoro pizza.\n"
     ]
    }
   ],
   "source": [
    "pizzas = ['Calabreza','Margherita','Provolone']\n",
    "for pizza in pizzas:\n",
    "    print(\"Gosto de pizza de \" + pizza)\n",
    "    \n",
    "print(\"\\nEu realmente adoro pizza.\")"
   ]
  },
  {
   "cell_type": "code",
   "execution_count": 20,
   "metadata": {},
   "outputs": [
    {
     "name": "stdout",
     "output_type": "stream",
     "text": [
      "Um gato seria um ótimo animal de estimação.\n",
      "Um cachorro seria um ótimo animal de estimação.\n",
      "Um cavalo seria um ótimo animal de estimação.\n",
      "\n",
      "Qualquer um desses animais seriam um ótimo animal de estimação.\n"
     ]
    }
   ],
   "source": [
    "animais = ['gato','cachorro','cavalo']\n",
    "for animal in animais:\n",
    "    print(\"Um \" + animal + \" seria um ótimo animal de estimação.\")\n",
    "    \n",
    "print(\"\\nQualquer um desses animais seriam um ótimo animal de estimação.\")"
   ]
  },
  {
   "cell_type": "markdown",
   "metadata": {},
   "source": [
    "## Função range"
   ]
  },
  {
   "cell_type": "code",
   "execution_count": 21,
   "metadata": {},
   "outputs": [
    {
     "name": "stdout",
     "output_type": "stream",
     "text": [
      "1\n",
      "2\n",
      "3\n",
      "4\n"
     ]
    }
   ],
   "source": [
    "for value in range(1,5):\n",
    "    print(value)"
   ]
  },
  {
   "cell_type": "code",
   "execution_count": 2,
   "metadata": {},
   "outputs": [
    {
     "name": "stdout",
     "output_type": "stream",
     "text": [
      "[1, 2, 3, 4, 5]\n"
     ]
    }
   ],
   "source": [
    "numbers = list(range(1,6))\n",
    "print(numbers)"
   ]
  },
  {
   "cell_type": "code",
   "execution_count": 5,
   "metadata": {},
   "outputs": [
    {
     "name": "stdout",
     "output_type": "stream",
     "text": [
      "[2, 4, 6, 8, 10]\n"
     ]
    }
   ],
   "source": [
    "even_numbers = list(range(2,11,2))\n",
    "print(even_numbers)"
   ]
  },
  {
   "cell_type": "code",
   "execution_count": 8,
   "metadata": {},
   "outputs": [
    {
     "name": "stdout",
     "output_type": "stream",
     "text": [
      "[1, 4, 9, 16, 25, 36, 49, 64, 81, 100]\n"
     ]
    }
   ],
   "source": [
    "squares = []\n",
    "for value in range(1,11):\n",
    "    squares.append(value**2)\n",
    "    \n",
    "print(squares)\n",
    "    "
   ]
  },
  {
   "cell_type": "code",
   "execution_count": 9,
   "metadata": {},
   "outputs": [
    {
     "data": {
      "text/plain": [
       "0"
      ]
     },
     "execution_count": 9,
     "metadata": {},
     "output_type": "execute_result"
    }
   ],
   "source": [
    "digits = [1,2,3,4,5,6,7,8,9,0]\n",
    "min(digits)"
   ]
  },
  {
   "cell_type": "code",
   "execution_count": 10,
   "metadata": {},
   "outputs": [
    {
     "data": {
      "text/plain": [
       "9"
      ]
     },
     "execution_count": 10,
     "metadata": {},
     "output_type": "execute_result"
    }
   ],
   "source": [
    "max(digits)"
   ]
  },
  {
   "cell_type": "code",
   "execution_count": 11,
   "metadata": {},
   "outputs": [
    {
     "data": {
      "text/plain": [
       "45"
      ]
     },
     "execution_count": 11,
     "metadata": {},
     "output_type": "execute_result"
    }
   ],
   "source": [
    "sum(digits)"
   ]
  },
  {
   "cell_type": "markdown",
   "metadata": {},
   "source": [
    "## List Comprehensions"
   ]
  },
  {
   "cell_type": "code",
   "execution_count": 12,
   "metadata": {},
   "outputs": [
    {
     "name": "stdout",
     "output_type": "stream",
     "text": [
      "[1, 4, 9, 16, 25, 36, 49, 64, 81, 100]\n"
     ]
    }
   ],
   "source": [
    "square = [value ** 2 for value in range(1,11)]\n",
    "print(square)"
   ]
  },
  {
   "cell_type": "markdown",
   "metadata": {},
   "source": [
    "### Faça você mesmo"
   ]
  },
  {
   "cell_type": "code",
   "execution_count": 17,
   "metadata": {},
   "outputs": [
    {
     "name": "stdout",
     "output_type": "stream",
     "text": [
      "1\n",
      "2\n",
      "3\n",
      "4\n",
      "5\n",
      "6\n",
      "7\n",
      "8\n",
      "9\n",
      "10\n",
      "11\n",
      "12\n",
      "13\n",
      "14\n",
      "15\n",
      "16\n",
      "17\n",
      "18\n",
      "19\n",
      "20\n"
     ]
    }
   ],
   "source": [
    "for n in range(1,21):\n",
    "    print(n)"
   ]
  },
  {
   "cell_type": "code",
   "execution_count": 9,
   "metadata": {},
   "outputs": [
    {
     "name": "stdout",
     "output_type": "stream",
     "text": [
      "[1, 2, 3, 4, 5, 6, 7, 8, 9, 10, 11, 12, 13, 14, 15, 16, 17, 18, 19, 20, 21, 22, 23, 24, 25, 26, 27, 28, 29, 30, 31, 32, 33, 34, 35, 36, 37, 38, 39, 40, 41, 42, 43, 44, 45, 46, 47, 48, 49, 50, 51, 52, 53, 54, 55, 56, 57, 58, 59, 60, 61, 62, 63, 64, 65, 66, 67, 68, 69, 70, 71, 72, 73, 74, 75, 76, 77, 78, 79, 80, 81, 82, 83, 84, 85, 86, 87, 88, 89, 90, 91, 92, 93, 94, 95, 96, 97, 98, 99, 100]\n"
     ]
    }
   ],
   "source": [
    "milhao = []\n",
    "for n in range(1,101):\n",
    "    milhao.append(n)\n",
    "\n",
    "print(milhao)"
   ]
  },
  {
   "cell_type": "code",
   "execution_count": 7,
   "metadata": {},
   "outputs": [
    {
     "data": {
      "text/plain": [
       "1"
      ]
     },
     "execution_count": 7,
     "metadata": {},
     "output_type": "execute_result"
    }
   ],
   "source": [
    "min(milhao)"
   ]
  },
  {
   "cell_type": "code",
   "execution_count": 24,
   "metadata": {},
   "outputs": [
    {
     "data": {
      "text/plain": [
       "100"
      ]
     },
     "execution_count": 24,
     "metadata": {},
     "output_type": "execute_result"
    }
   ],
   "source": [
    "max(milhao)"
   ]
  },
  {
   "cell_type": "code",
   "execution_count": 43,
   "metadata": {},
   "outputs": [
    {
     "name": "stdout",
     "output_type": "stream",
     "text": [
      "[1, 3, 5, 7, 9, 11, 13, 15, 17, 19]\n"
     ]
    }
   ],
   "source": [
    "impares = []\n",
    "for x in range(1,20,2):\n",
    "    impares.append(x)\n",
    "    \n",
    "print(impares)"
   ]
  },
  {
   "cell_type": "code",
   "execution_count": 44,
   "metadata": {},
   "outputs": [
    {
     "name": "stdout",
     "output_type": "stream",
     "text": [
      "[3, 6, 9, 12, 15, 18, 21, 24, 27]\n"
     ]
    }
   ],
   "source": [
    "multiplus = []\n",
    "for x in range(3,30,3):\n",
    "    multiplus.append(x)\n",
    "    \n",
    "print(multiplus)"
   ]
  },
  {
   "cell_type": "code",
   "execution_count": 51,
   "metadata": {},
   "outputs": [
    {
     "name": "stdout",
     "output_type": "stream",
     "text": [
      "[1, 8, 27, 64, 125, 216, 343, 512, 729]\n"
     ]
    }
   ],
   "source": [
    "cubes = []\n",
    "for x in range(1,10):\n",
    "    cubes.append(x**3)\n",
    "    \n",
    "print(cubes)"
   ]
  },
  {
   "cell_type": "code",
   "execution_count": 50,
   "metadata": {},
   "outputs": [
    {
     "name": "stdout",
     "output_type": "stream",
     "text": [
      "[1, 8, 27, 64, 125, 216, 343, 512, 729]\n"
     ]
    }
   ],
   "source": [
    "cubos = [x ** 3 for x in range(1,10)]\n",
    "print(cubos)"
   ]
  },
  {
   "cell_type": "code",
   "execution_count": 52,
   "metadata": {},
   "outputs": [
    {
     "name": "stdout",
     "output_type": "stream",
     "text": [
      "['charles', 'martina', 'michael']\n"
     ]
    }
   ],
   "source": [
    "players = ['charles','martina','michael','eli','florence']\n",
    "print(players[0:3])"
   ]
  },
  {
   "cell_type": "code",
   "execution_count": 53,
   "metadata": {},
   "outputs": [
    {
     "name": "stdout",
     "output_type": "stream",
     "text": [
      "['martina', 'michael', 'eli']\n"
     ]
    }
   ],
   "source": [
    "print(players[1:4])"
   ]
  },
  {
   "cell_type": "code",
   "execution_count": 54,
   "metadata": {},
   "outputs": [
    {
     "name": "stdout",
     "output_type": "stream",
     "text": [
      "['charles', 'martina', 'michael', 'eli']\n"
     ]
    }
   ],
   "source": [
    "print(players[:4])"
   ]
  },
  {
   "cell_type": "code",
   "execution_count": 55,
   "metadata": {},
   "outputs": [
    {
     "name": "stdout",
     "output_type": "stream",
     "text": [
      "['michael', 'eli', 'florence']\n"
     ]
    }
   ],
   "source": [
    "print(players[2:])"
   ]
  },
  {
   "cell_type": "code",
   "execution_count": 56,
   "metadata": {},
   "outputs": [
    {
     "name": "stdout",
     "output_type": "stream",
     "text": [
      "Aqui são os tres primeiros players do meu time\n",
      "Charles\n",
      "Martina\n",
      "Michael\n"
     ]
    }
   ],
   "source": [
    "print('Aqui são os tres primeiros players do meu time')\n",
    "for players in players[:3]:\n",
    "    print(players.title())"
   ]
  },
  {
   "cell_type": "code",
   "execution_count": 58,
   "metadata": {},
   "outputs": [
    {
     "name": "stdout",
     "output_type": "stream",
     "text": [
      "Minha comida favorita é: \n",
      "['pizza', 'bolo', 'pastel']\n"
     ]
    }
   ],
   "source": [
    "my_foods = ['pizza', 'bolo', 'pastel']\n",
    "amigo_foods = my_foods[:]\n",
    "\n",
    "print('Minha comida favorita é: ')\n",
    "print(my_foods)"
   ]
  },
  {
   "cell_type": "code",
   "execution_count": 59,
   "metadata": {},
   "outputs": [
    {
     "name": "stdout",
     "output_type": "stream",
     "text": [
      "Minha comida favorita do amigo é: \n",
      "['pizza', 'bolo', 'pastel']\n"
     ]
    }
   ],
   "source": [
    "print('Minha comida favorita do amigo é: ')\n",
    "print(amigo_foods)"
   ]
  },
  {
   "cell_type": "code",
   "execution_count": 60,
   "metadata": {},
   "outputs": [],
   "source": [
    "my_foods.append('farofa')\n",
    "amigo_foods.append('sorvete')"
   ]
  },
  {
   "cell_type": "code",
   "execution_count": 61,
   "metadata": {},
   "outputs": [
    {
     "name": "stdout",
     "output_type": "stream",
     "text": [
      "Minha comida favorita é: \n",
      "['pizza', 'bolo', 'pastel', 'farofa']\n"
     ]
    }
   ],
   "source": [
    "print('Minha comida favorita é: ')\n",
    "print(my_foods)"
   ]
  },
  {
   "cell_type": "code",
   "execution_count": 62,
   "metadata": {},
   "outputs": [
    {
     "name": "stdout",
     "output_type": "stream",
     "text": [
      "Minha comida favorita do amigo é: \n",
      "['pizza', 'bolo', 'pastel', 'sorvete']\n"
     ]
    }
   ],
   "source": [
    "print('Minha comida favorita do amigo é: ')\n",
    "print(amigo_foods)"
   ]
  },
  {
   "cell_type": "markdown",
   "metadata": {},
   "source": [
    "## Faça você mesmo"
   ]
  },
  {
   "cell_type": "code",
   "execution_count": 68,
   "metadata": {},
   "outputs": [
    {
     "name": "stdout",
     "output_type": "stream",
     "text": [
      "Os tres primeiras itens da lista são:\n",
      "1\n",
      "8\n",
      "27\n"
     ]
    }
   ],
   "source": [
    "print('Os tres primeiras itens da lista são:')\n",
    "for cubo in cubos[:3]:\n",
    "    print(cubo)"
   ]
  },
  {
   "cell_type": "code",
   "execution_count": 70,
   "metadata": {},
   "outputs": [
    {
     "name": "stdout",
     "output_type": "stream",
     "text": [
      "Os tres itens o meio da lista são:\n",
      "64\n",
      "125\n",
      "216\n"
     ]
    }
   ],
   "source": [
    "print('Os tres itens o meio da lista são:')\n",
    "for cubo in cubos[3:6]:\n",
    "    print(cubo)"
   ]
  },
  {
   "cell_type": "code",
   "execution_count": 76,
   "metadata": {},
   "outputs": [
    {
     "name": "stdout",
     "output_type": "stream",
     "text": [
      "Os tres ÚLTIMOS itens Da lista são:\n",
      "343\n",
      "512\n",
      "729\n"
     ]
    }
   ],
   "source": [
    "print('Os tres ÚLTIMOS itens Da lista são:')\n",
    "for cubo in cubos[-3:]:\n",
    "    print(cubo)"
   ]
  },
  {
   "cell_type": "code",
   "execution_count": 82,
   "metadata": {},
   "outputs": [
    {
     "name": "stdout",
     "output_type": "stream",
     "text": [
      "Minhas pizzas favotiras são: calabreza\n",
      "Minhas pizzas favotiras são: margherita\n",
      "Minhas pizzas favotiras são: provolone\n",
      "Minhas pizzas favotiras são: brigadeiro\n",
      "\n",
      "Eu realmente adoro pizza.\n"
     ]
    }
   ],
   "source": [
    "pizzas = ['calabreza','margherita','provolone','brigadeiro']\n",
    "for pizza in pizzas:\n",
    "    print(\"Minhas pizzas favotiras são: \" + pizza)"
   ]
  },
  {
   "cell_type": "code",
   "execution_count": 84,
   "metadata": {},
   "outputs": [
    {
     "name": "stdout",
     "output_type": "stream",
     "text": [
      "As pizzas favotiras do meu amigo são: Calabreza\n",
      "As pizzas favotiras do meu amigo são: Margherita\n",
      "As pizzas favotiras do meu amigo são: Provolone\n",
      "As pizzas favotiras do meu amigo são: 4 queijos\n"
     ]
    }
   ],
   "source": [
    "friend_pizzas = ['Calabreza','Margherita','Provolone','4 queijos']\n",
    "for friend_pizza in friend_pizzas:\n",
    "    print(\"As pizzas favotiras do meu amigo são: \" + friend_pizza)\n"
   ]
  },
  {
   "cell_type": "markdown",
   "metadata": {},
   "source": [
    "# Tuplas"
   ]
  },
  {
   "cell_type": "code",
   "execution_count": 87,
   "metadata": {},
   "outputs": [
    {
     "name": "stdout",
     "output_type": "stream",
     "text": [
      "200\n",
      "50\n"
     ]
    }
   ],
   "source": [
    "dimensions = (200,50)\n",
    "print(dimensions[0])\n",
    "print(dimensions[1])"
   ]
  },
  {
   "cell_type": "code",
   "execution_count": 88,
   "metadata": {},
   "outputs": [
    {
     "ename": "TypeError",
     "evalue": "'tuple' object does not support item assignment",
     "output_type": "error",
     "traceback": [
      "\u001b[0;31m---------------------------------------------------------------------------\u001b[0m",
      "\u001b[0;31mTypeError\u001b[0m                                 Traceback (most recent call last)",
      "\u001b[0;32m<ipython-input-88-e7fff19631c5>\u001b[0m in \u001b[0;36m<module>\u001b[0;34m\u001b[0m\n\u001b[0;32m----> 1\u001b[0;31m \u001b[0mdimensions\u001b[0m\u001b[0;34m[\u001b[0m\u001b[0;36m0\u001b[0m\u001b[0;34m]\u001b[0m \u001b[0;34m=\u001b[0m \u001b[0;36m350\u001b[0m\u001b[0;34m\u001b[0m\u001b[0;34m\u001b[0m\u001b[0m\n\u001b[0m",
      "\u001b[0;31mTypeError\u001b[0m: 'tuple' object does not support item assignment"
     ]
    }
   ],
   "source": [
    "dimensions[0] = 350"
   ]
  },
  {
   "cell_type": "code",
   "execution_count": 89,
   "metadata": {},
   "outputs": [
    {
     "name": "stdout",
     "output_type": "stream",
     "text": [
      "200\n",
      "50\n"
     ]
    }
   ],
   "source": [
    "for dimension in dimensions:\n",
    "    print(dimension)"
   ]
  },
  {
   "cell_type": "code",
   "execution_count": 90,
   "metadata": {},
   "outputs": [
    {
     "name": "stdout",
     "output_type": "stream",
     "text": [
      "\n",
      "Modificando dimensões:\n",
      "400\n",
      "100\n"
     ]
    }
   ],
   "source": [
    "dimensions = (400,100)\n",
    "print(\"\\nModificando dimensões:\")\n",
    "for dimension in dimensions:\n",
    "    print(dimension)"
   ]
  },
  {
   "cell_type": "markdown",
   "metadata": {},
   "source": [
    "## Faça você mesmo"
   ]
  },
  {
   "cell_type": "code",
   "execution_count": 92,
   "metadata": {},
   "outputs": [
    {
     "name": "stdout",
     "output_type": "stream",
     "text": [
      "arroz\n",
      "feijao\n",
      "carne\n",
      "salada\n",
      "maionese\n"
     ]
    }
   ],
   "source": [
    "buffets = ('arroz', 'feijao','carne','salada','maionese')\n",
    "for buffet in buffets:\n",
    "    print(buffet)"
   ]
  },
  {
   "cell_type": "code",
   "execution_count": 93,
   "metadata": {},
   "outputs": [
    {
     "ename": "TypeError",
     "evalue": "'tuple' object does not support item assignment",
     "output_type": "error",
     "traceback": [
      "\u001b[0;31m---------------------------------------------------------------------------\u001b[0m",
      "\u001b[0;31mTypeError\u001b[0m                                 Traceback (most recent call last)",
      "\u001b[0;32m<ipython-input-93-01b10dc7b2a0>\u001b[0m in \u001b[0;36m<module>\u001b[0;34m\u001b[0m\n\u001b[0;32m----> 1\u001b[0;31m \u001b[0mbuffets\u001b[0m\u001b[0;34m[\u001b[0m\u001b[0;36m1\u001b[0m\u001b[0;34m]\u001b[0m \u001b[0;34m=\u001b[0m \u001b[0;34m'farofa'\u001b[0m\u001b[0;34m\u001b[0m\u001b[0;34m\u001b[0m\u001b[0m\n\u001b[0m",
      "\u001b[0;31mTypeError\u001b[0m: 'tuple' object does not support item assignment"
     ]
    }
   ],
   "source": [
    "buffets[1] = 'farofa'"
   ]
  },
  {
   "cell_type": "code",
   "execution_count": 94,
   "metadata": {},
   "outputs": [
    {
     "name": "stdout",
     "output_type": "stream",
     "text": [
      "arroz\n",
      "feijao\n",
      "frango\n",
      "salada\n",
      "macarrão\n"
     ]
    }
   ],
   "source": [
    "buffets = ('arroz', 'feijao','frango','salada','macarrão')\n",
    "for buffet in buffets:\n",
    "    print(buffet)"
   ]
  },
  {
   "cell_type": "code",
   "execution_count": null,
   "metadata": {},
   "outputs": [],
   "source": []
  }
 ],
 "metadata": {
  "kernelspec": {
   "display_name": "Python 3",
   "language": "python",
   "name": "python3"
  },
  "language_info": {
   "codemirror_mode": {
    "name": "ipython",
    "version": 3
   },
   "file_extension": ".py",
   "mimetype": "text/x-python",
   "name": "python",
   "nbconvert_exporter": "python",
   "pygments_lexer": "ipython3",
   "version": "3.7.3"
  }
 },
 "nbformat": 4,
 "nbformat_minor": 4
}
