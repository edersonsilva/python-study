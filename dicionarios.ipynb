{
 "cells": [
  {
   "cell_type": "markdown",
   "metadata": {},
   "source": [
    "# Dicionarios"
   ]
  },
  {
   "cell_type": "code",
   "execution_count": 38,
   "metadata": {},
   "outputs": [
    {
     "name": "stdout",
     "output_type": "stream",
     "text": [
      "green\n",
      "5\n"
     ]
    }
   ],
   "source": [
    "alien_0 = {'color':'green', 'points':5}\n",
    "\n",
    "print(alien_0['color'])\n",
    "print(alien_0['points'])"
   ]
  },
  {
   "cell_type": "code",
   "execution_count": 39,
   "metadata": {},
   "outputs": [
    {
     "name": "stdout",
     "output_type": "stream",
     "text": [
      "Voce ganhou 5 points!\n"
     ]
    }
   ],
   "source": [
    "new_points = alien_0['points']\n",
    "print('Voce ganhou ' + str(new_points) + ' points!')"
   ]
  },
  {
   "cell_type": "code",
   "execution_count": 40,
   "metadata": {},
   "outputs": [
    {
     "name": "stdout",
     "output_type": "stream",
     "text": [
      "{'color': 'green', 'points': 5}\n"
     ]
    }
   ],
   "source": [
    "print(alien_0)"
   ]
  },
  {
   "cell_type": "code",
   "execution_count": 41,
   "metadata": {},
   "outputs": [
    {
     "name": "stdout",
     "output_type": "stream",
     "text": [
      "{'color': 'green', 'points': 5, 'x_position': 0, 'y_position': 25}\n"
     ]
    }
   ],
   "source": [
    "alien_0['x_position'] = 0\n",
    "alien_0['y_position'] = 25\n",
    "print(alien_0)"
   ]
  },
  {
   "cell_type": "code",
   "execution_count": 42,
   "metadata": {},
   "outputs": [
    {
     "name": "stdout",
     "output_type": "stream",
     "text": [
      "O alien é agora amarelo.\n"
     ]
    }
   ],
   "source": [
    "alien_0['color'] = 'amarelo'\n",
    "print(\"O alien é agora \" + alien_0['color'] + '.')"
   ]
  },
  {
   "cell_type": "code",
   "execution_count": 43,
   "metadata": {},
   "outputs": [
    {
     "name": "stdout",
     "output_type": "stream",
     "text": [
      "{'color': 'amarelo', 'points': 5, 'x_position': 0, 'y_position': 25}\n"
     ]
    }
   ],
   "source": [
    "print(alien_0)"
   ]
  },
  {
   "cell_type": "code",
   "execution_count": 44,
   "metadata": {},
   "outputs": [
    {
     "name": "stdout",
     "output_type": "stream",
     "text": [
      "{'color': 'verde', 'points': 5}\n"
     ]
    }
   ],
   "source": [
    "alien_0 = {}\n",
    "\n",
    "alien_0['color'] = 'verde'\n",
    "alien_0['points'] = 5\n",
    "\n",
    "print(alien_0)"
   ]
  },
  {
   "cell_type": "code",
   "execution_count": 45,
   "metadata": {},
   "outputs": [
    {
     "name": "stdout",
     "output_type": "stream",
     "text": [
      "Esse alien é verde.\n"
     ]
    }
   ],
   "source": [
    "print('Esse alien é ' + alien_0['color'] + '.') "
   ]
  },
  {
   "cell_type": "code",
   "execution_count": 46,
   "metadata": {},
   "outputs": [
    {
     "name": "stdout",
     "output_type": "stream",
     "text": [
      "Esse alien é amarelo.\n"
     ]
    }
   ],
   "source": [
    "alien_0['color'] = 'amarelo'\n",
    "print('Esse alien é ' + alien_0['color'] + '.') "
   ]
  },
  {
   "cell_type": "code",
   "execution_count": 61,
   "metadata": {},
   "outputs": [
    {
     "name": "stdout",
     "output_type": "stream",
     "text": [
      "Posição oirignal: 0.\n"
     ]
    }
   ],
   "source": [
    "alien_0 = {'x_position': 0, 'y_position': 25, 'speed': 'medium'}\n",
    "print('Posição oirignal: ' + str(alien_0['x_position']) + '.') "
   ]
  },
  {
   "cell_type": "code",
   "execution_count": 62,
   "metadata": {},
   "outputs": [
    {
     "name": "stdout",
     "output_type": "stream",
     "text": [
      "Nova posição: 2.\n"
     ]
    }
   ],
   "source": [
    "# move o alien para direita\n",
    "# Determina a distancia que alienigena deve se deslocar de acordo com sua velocidade atual\n",
    "if (alien_0['speed'] == 'slow'):\n",
    "    x_increment = 1\n",
    "elif (alien_0['speed'] == 'medium'):\n",
    "    x_increment = 2\n",
    "else:\n",
    "    # esse deve ser alienigena rapido\n",
    "    x_increment = 3\n",
    "    \n",
    "alien_0['x_position'] = alien_0['x_position'] + x_increment\n",
    "\n",
    "print('Nova posição: ' + str(alien_0['x_position']) + '.')"
   ]
  },
  {
   "cell_type": "code",
   "execution_count": 63,
   "metadata": {},
   "outputs": [
    {
     "name": "stdout",
     "output_type": "stream",
     "text": [
      "{'x_position': 2, 'y_position': 25, 'speed': 'medium'}\n"
     ]
    }
   ],
   "source": [
    "print(alien_0)"
   ]
  },
  {
   "cell_type": "code",
   "execution_count": 64,
   "metadata": {},
   "outputs": [
    {
     "name": "stdout",
     "output_type": "stream",
     "text": [
      "{'x_position': 2, 'y_position': 25}\n"
     ]
    }
   ],
   "source": [
    "del alien_0['speed']\n",
    "print(alien_0)"
   ]
  },
  {
   "cell_type": "code",
   "execution_count": 65,
   "metadata": {},
   "outputs": [
    {
     "name": "stdout",
     "output_type": "stream",
     "text": [
      "{'eder': 'python', 'everton': 'react', 'laercio': 'java', 'joao': 'php'}\n"
     ]
    }
   ],
   "source": [
    "favorites_languages = {\n",
    "    'eder':'python',\n",
    "    'everton':'react',\n",
    "    'laercio':'java',\n",
    "    'joao':'php',\n",
    "}\n",
    "\n",
    "print(favorites_languages)"
   ]
  },
  {
   "cell_type": "code",
   "execution_count": 66,
   "metadata": {},
   "outputs": [
    {
     "name": "stdout",
     "output_type": "stream",
     "text": [
      "Ederson sua linguagem favorita é: Python.\n"
     ]
    }
   ],
   "source": [
    "print('Ederson sua linguagem favorita é: ' + favorites_languages['eder'].title() + '.')"
   ]
  },
  {
   "cell_type": "markdown",
   "metadata": {},
   "source": [
    "## Faça você mesmo"
   ]
  },
  {
   "cell_type": "code",
   "execution_count": 67,
   "metadata": {},
   "outputs": [
    {
     "name": "stdout",
     "output_type": "stream",
     "text": [
      "{'first_name': 'Laercio', 'last_name': 'Manchini', 'age': 26, 'city': 'sarandi'}\n"
     ]
    }
   ],
   "source": [
    "pessoas = {\n",
    "    'first_name': 'Laercio',\n",
    "    'last_name': 'Manchini',\n",
    "    'age': 26,\n",
    "    'city': 'sarandi',\n",
    "}\n",
    "\n",
    "print(pessoas)"
   ]
  },
  {
   "cell_type": "code",
   "execution_count": 68,
   "metadata": {},
   "outputs": [
    {
     "name": "stdout",
     "output_type": "stream",
     "text": [
      "{'eder': 4, 'laercio': 39, 'maria': 29, 'joao': 77}\n"
     ]
    }
   ],
   "source": [
    "numeros = {\n",
    "    'eder': 4,\n",
    "    'laercio': 39,\n",
    "    'maria': 29,\n",
    "    'joao': 77,\n",
    "}\n",
    "\n",
    "print(numeros)"
   ]
  },
  {
   "cell_type": "code",
   "execution_count": 69,
   "metadata": {},
   "outputs": [
    {
     "name": "stdout",
     "output_type": "stream",
     "text": [
      " \n",
      "Key: eder\n",
      " Value: 4\n",
      " \n",
      "Key: laercio\n",
      " Value: 39\n",
      " \n",
      "Key: maria\n",
      " Value: 29\n",
      " \n",
      "Key: joao\n",
      " Value: 77\n"
     ]
    }
   ],
   "source": [
    "for key, value in numeros.items():\n",
    "    print(\" \\nKey: \" + key)\n",
    "    print(\" Value: \" + str(value))"
   ]
  },
  {
   "cell_type": "code",
   "execution_count": 70,
   "metadata": {},
   "outputs": [
    {
     "name": "stdout",
     "output_type": "stream",
     "text": [
      "Eder s favorite language is Python.\n",
      "Everton s favorite language is React.\n",
      "Laercio s favorite language is Java.\n",
      "Joao s favorite language is Php.\n"
     ]
    }
   ],
   "source": [
    "for name, language in favorites_languages.items():\n",
    "    print(name.title() + ' s favorite language is ' + language.title() + '.')"
   ]
  },
  {
   "cell_type": "code",
   "execution_count": 71,
   "metadata": {},
   "outputs": [
    {
     "name": "stdout",
     "output_type": "stream",
     "text": [
      "Eder\n",
      "Everton\n",
      "Laercio\n",
      "Joao\n"
     ]
    }
   ],
   "source": [
    "for name in favorites_languages:\n",
    "    print(name.title())"
   ]
  },
  {
   "cell_type": "code",
   "execution_count": 72,
   "metadata": {},
   "outputs": [
    {
     "name": "stdout",
     "output_type": "stream",
     "text": [
      "Eder\n",
      "Ola Eder, E vi sua linguagem favorita é: Python!\n",
      "Everton\n",
      "Laercio\n",
      "Joao\n"
     ]
    }
   ],
   "source": [
    "friends = ['eder',' maria']\n",
    "for name in favorites_languages.keys():\n",
    "    print(name.title())\n",
    "    \n",
    "    if name in friends:\n",
    "        print(\"Ola \" + name.title() +\n",
    "             \", E vi sua linguagem favorita é: \" +\n",
    "             favorites_languages[name].title() + \"!\")"
   ]
  },
  {
   "cell_type": "code",
   "execution_count": null,
   "metadata": {},
   "outputs": [],
   "source": []
  },
  {
   "cell_type": "code",
   "execution_count": null,
   "metadata": {},
   "outputs": [],
   "source": []
  }
 ],
 "metadata": {
  "kernelspec": {
   "display_name": "Python 3",
   "language": "python",
   "name": "python3"
  },
  "language_info": {
   "codemirror_mode": {
    "name": "ipython",
    "version": 3
   },
   "file_extension": ".py",
   "mimetype": "text/x-python",
   "name": "python",
   "nbconvert_exporter": "python",
   "pygments_lexer": "ipython3",
   "version": "3.7.3"
  }
 },
 "nbformat": 4,
 "nbformat_minor": 4
}
